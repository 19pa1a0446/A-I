{
  "nbformat": 4,
  "nbformat_minor": 0,
  "metadata": {
    "colab": {
      "name": "John2",
      "provenance": [],
      "authorship_tag": "ABX9TyPir85ImfcID0LIMbk2ZbDM",
      "include_colab_link": true
    },
    "kernelspec": {
      "name": "python3",
      "display_name": "Python 3"
    }
  },
  "cells": [
    {
      "cell_type": "markdown",
      "metadata": {
        "id": "view-in-github",
        "colab_type": "text"
      },
      "source": [
        "<a href=\"https://colab.research.google.com/github/19pa1a0446/A-I/blob/master/John2.ipynb\" target=\"_parent\"><img src=\"https://colab.research.google.com/assets/colab-badge.svg\" alt=\"Open In Colab\"/></a>"
      ]
    },
    {
      "cell_type": "code",
      "metadata": {
        "id": "Tk0H2HsE6fn4",
        "colab_type": "code",
        "colab": {
          "base_uri": "https://localhost:8080/",
          "height": 51
        },
        "outputId": "2cb89cd3-1aa5-444f-d00c-2b24440616d9"
      },
      "source": [
        "import numpy as np\n",
        "x=np.array([1,2,3,4])\n",
        "print(x)\n",
        "print(type(x))"
      ],
      "execution_count": 3,
      "outputs": [
        {
          "output_type": "stream",
          "text": [
            "[1 2 3 4]\n",
            "<class 'numpy.ndarray'>\n"
          ],
          "name": "stdout"
        }
      ]
    },
    {
      "cell_type": "code",
      "metadata": {
        "id": "bGARs6-58vF-",
        "colab_type": "code",
        "colab": {
          "base_uri": "https://localhost:8080/",
          "height": 51
        },
        "outputId": "b9705832-7101-43b2-af27-69290a030fca"
      },
      "source": [
        "import numpy as np\n",
        "x=np.array([1,2,3,'n',4])\n",
        "print(x)\n",
        "print(type(x))"
      ],
      "execution_count": 4,
      "outputs": [
        {
          "output_type": "stream",
          "text": [
            "['1' '2' '3' 'n' '4']\n",
            "<class 'numpy.ndarray'>\n"
          ],
          "name": "stdout"
        }
      ]
    },
    {
      "cell_type": "code",
      "metadata": {
        "id": "JGjFDEtl9FcN",
        "colab_type": "code",
        "colab": {
          "base_uri": "https://localhost:8080/",
          "height": 170
        },
        "outputId": "e0e7cd04-0086-4ac4-b017-bb942dfd0422"
      },
      "source": [
        "import numpy as np\n",
        "y=np.linspace(start=1,stop=5)\n",
        "print(y)"
      ],
      "execution_count": 5,
      "outputs": [
        {
          "output_type": "stream",
          "text": [
            "[1.         1.08163265 1.16326531 1.24489796 1.32653061 1.40816327\n",
            " 1.48979592 1.57142857 1.65306122 1.73469388 1.81632653 1.89795918\n",
            " 1.97959184 2.06122449 2.14285714 2.2244898  2.30612245 2.3877551\n",
            " 2.46938776 2.55102041 2.63265306 2.71428571 2.79591837 2.87755102\n",
            " 2.95918367 3.04081633 3.12244898 3.20408163 3.28571429 3.36734694\n",
            " 3.44897959 3.53061224 3.6122449  3.69387755 3.7755102  3.85714286\n",
            " 3.93877551 4.02040816 4.10204082 4.18367347 4.26530612 4.34693878\n",
            " 4.42857143 4.51020408 4.59183673 4.67346939 4.75510204 4.83673469\n",
            " 4.91836735 5.        ]\n"
          ],
          "name": "stdout"
        }
      ]
    },
    {
      "cell_type": "code",
      "metadata": {
        "id": "HZsOm_3m9VdW",
        "colab_type": "code",
        "colab": {
          "base_uri": "https://localhost:8080/",
          "height": 34
        },
        "outputId": "9d329a50-c756-415c-d4af-64e521be85ed"
      },
      "source": [
        "import numpy as np\n",
        "x=np.arange(start=1,stop=20,step=2)\n",
        "print(x)"
      ],
      "execution_count": 7,
      "outputs": [
        {
          "output_type": "stream",
          "text": [
            "[ 1  3  5  7  9 11 13 15 17 19]\n"
          ],
          "name": "stdout"
        }
      ]
    },
    {
      "cell_type": "code",
      "metadata": {
        "id": "-W-00A8C9pql",
        "colab_type": "code",
        "colab": {
          "base_uri": "https://localhost:8080/",
          "height": 68
        },
        "outputId": "91978651-7c14-4e9c-af0e-17b27b71d333"
      },
      "source": [
        "import numpy as np\n",
        "x=np.ones((3,3))\n",
        "print(x)\n"
      ],
      "execution_count": 8,
      "outputs": [
        {
          "output_type": "stream",
          "text": [
            "[[1. 1. 1.]\n",
            " [1. 1. 1.]\n",
            " [1. 1. 1.]]\n"
          ],
          "name": "stdout"
        }
      ]
    },
    {
      "cell_type": "code",
      "metadata": {
        "id": "TrQOMrP69zUc",
        "colab_type": "code",
        "colab": {
          "base_uri": "https://localhost:8080/",
          "height": 68
        },
        "outputId": "3b12f29e-0cf6-4699-8426-c88aeed33c68"
      },
      "source": [
        "import numpy as np\n",
        "x=np.zeros((3,3))\n",
        "print(x)"
      ],
      "execution_count": 10,
      "outputs": [
        {
          "output_type": "stream",
          "text": [
            "[[0. 0. 0.]\n",
            " [0. 0. 0.]\n",
            " [0. 0. 0.]]\n"
          ],
          "name": "stdout"
        }
      ]
    },
    {
      "cell_type": "code",
      "metadata": {
        "id": "NcgT9IoN-C1B",
        "colab_type": "code",
        "colab": {
          "base_uri": "https://localhost:8080/",
          "height": 85
        },
        "outputId": "918c10b6-9e92-4ce4-eb5c-76048a2dde42"
      },
      "source": [
        "import numpy as np\n",
        "x=np.random.rand(2,5)\n",
        "print(x)"
      ],
      "execution_count": 12,
      "outputs": [
        {
          "output_type": "stream",
          "text": [
            "[[4.88506349e-01 5.00815188e-01 5.13465440e-01 6.96984901e-01\n",
            "  2.70338590e-01]\n",
            " [8.50246181e-01 3.43839082e-01 5.67163465e-01 2.45664834e-04\n",
            "  5.74840314e-01]]\n"
          ],
          "name": "stdout"
        }
      ]
    },
    {
      "cell_type": "code",
      "metadata": {
        "id": "6tIwDmjg-QF2",
        "colab_type": "code",
        "colab": {
          "base_uri": "https://localhost:8080/",
          "height": 34
        },
        "outputId": "ffdf4c7c-f0f8-421c-f260-50bca2016237"
      },
      "source": [
        "import numpy as np\n",
        "x=np.random.rand(10)\n",
        "x=x.astype(int)\n",
        "print(x)"
      ],
      "execution_count": 13,
      "outputs": [
        {
          "output_type": "stream",
          "text": [
            "[0 0 0 0 0 0 0 0 0 0]\n"
          ],
          "name": "stdout"
        }
      ]
    }
  ]
}