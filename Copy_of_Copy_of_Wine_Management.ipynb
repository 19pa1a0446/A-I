{
  "nbformat": 4,
  "nbformat_minor": 0,
  "metadata": {
    "colab": {
      "name": "Copy of Copy of Wine Management",
      "provenance": [],
      "toc_visible": true,
      "mount_file_id": "1jS1DJnzbayKg3ltLy-9ujtWiqZ7ruEWA",
      "authorship_tag": "ABX9TyNBJi0AsY822XtxI6D/5vyI",
      "include_colab_link": true
    },
    "kernelspec": {
      "name": "python3",
      "display_name": "Python 3"
    }
  },
  "cells": [
    {
      "cell_type": "markdown",
      "metadata": {
        "id": "view-in-github",
        "colab_type": "text"
      },
      "source": [
        "<a href=\"https://colab.research.google.com/github/19pa1a0446/A-I/blob/master/Copy_of_Copy_of_Wine_Management.ipynb\" target=\"_parent\"><img src=\"https://colab.research.google.com/assets/colab-badge.svg\" alt=\"Open In Colab\"/></a>"
      ]
    },
    {
      "cell_type": "markdown",
      "metadata": {
        "id": "-Dol1e13J-7D",
        "colab_type": "text"
      },
      "source": [
        "## **Contributors**\n",
        "\n",
        "\n",
        "\n",
        "\n",
        "*   *A.V.S. KARTHIK* [19PA1A0409]\n",
        "*   *CH. BHARATH*    [19PA1A0423]\n",
        "*   *CH. PRAMODH*    [19PA1A0424]\n",
        "*   *G. JOHN DINESH* [19PA1A0446]\n",
        "\n",
        "\n",
        "\n",
        "\n",
        "\n",
        "\n",
        "\n"
      ]
    },
    {
      "cell_type": "markdown",
      "metadata": {
        "id": "TlJfGru4pol3",
        "colab_type": "text"
      },
      "source": [
        "# **Description**\n",
        "OUR DATA IS ABOUT *WINE* *MANAGEMENT*\n",
        "\n",
        "**COUNTRY**     :Name of the country\n",
        "\n",
        "**DESCRIPTION** :Type of wine\n",
        "\n",
        "**DESIGNATION** :Action of choosing wine to hold \n",
        "\n",
        "**POINTS**      :Points scaled to 100\n",
        "\n",
        "**PRICE**       :Price of wine\n",
        "\n",
        "**PROVINCE**    :Principal administrative division of a country \n",
        "\n",
        "**REGION1**     :Region of manufacture\n",
        "\n",
        "**REGION2**     :Region of manufacture\n",
        "\n",
        "**VARIETY**     :Flavour of wine\n",
        "\n",
        "**WINERY**      :An establishment where wine is made\n"
      ]
    },
    {
      "cell_type": "markdown",
      "metadata": {
        "id": "nmgBflrHLnIo",
        "colab_type": "text"
      },
      "source": [
        "# **Reading** **Data**"
      ]
    },
    {
      "cell_type": "code",
      "metadata": {
        "id": "l3iva2ZxjK0X",
        "colab_type": "code",
        "colab": {}
      },
      "source": [
        "#import pandas\n",
        "import pandas as pd\n"
      ],
      "execution_count": 0,
      "outputs": []
    },
    {
      "cell_type": "code",
      "metadata": {
        "id": "s12TaOgl88OY",
        "colab_type": "code",
        "colab": {
          "base_uri": "https://localhost:8080/",
          "height": 252
        },
        "outputId": "99aa74d4-a6b8-4650-a12f-8e5124fd384a"
      },
      "source": [
        "wine= pd.read_csv(\"/content/Book1..csv\")\n",
        "print(wine)"
      ],
      "execution_count": 82,
      "outputs": [
        {
          "output_type": "stream",
          "text": [
            "       Unnamed: 0  country  ...             variety                     winery\n",
            "0               0       US  ...  Cabernet Sauvignon                      Heitz\n",
            "1               1    Spain  ...       Tinta de Toro    Bodega Carmen Rodríguez\n",
            "2               2       US  ...     Sauvignon Blanc                   Macauley\n",
            "3               3       US  ...          Pinot Noir                      Ponzi\n",
            "4               4   France  ...  Provence red blend       Domaine de la Bégude\n",
            "...           ...      ...  ...                 ...                        ...\n",
            "10094       10094   France  ...                Rosé  Vignobles de Saint-Tropez\n",
            "10095       10095       US  ...          Pinot Noir                Vista Hills\n",
            "10096       10096  Austria  ...                Rosé               Winzer Krems\n",
            "10097       10097    Spain  ...         Tempranillo                    Legaris\n",
            "10098       10098   France  ...        Malbec Blend           Château la Reyne\n",
            "\n",
            "[10099 rows x 11 columns]\n"
          ],
          "name": "stdout"
        }
      ]
    },
    {
      "cell_type": "markdown",
      "metadata": {
        "id": "-tXQ9PE9MKq1",
        "colab_type": "text"
      },
      "source": [
        "# **Questions**\n",
        "\n",
        "1.How do you get the first three rows?\n",
        "\n",
        "2.How do you get the last three rows?\n",
        "\n",
        "3.How to create a subset of the given data?\n",
        "\n",
        "4.How do you print the coloumn names of the given data?\n",
        "\n",
        "5.What are the dimensions of the data frame?\n",
        "\n",
        "6.How do you find the datatypes of the given variables?\n",
        "\n",
        "\n",
        "\n"
      ]
    },
    {
      "cell_type": "markdown",
      "metadata": {
        "id": "9u9WRYJOQl_h",
        "colab_type": "text"
      },
      "source": [
        "# Accessing data "
      ]
    },
    {
      "cell_type": "code",
      "metadata": {
        "id": "rHU5nWXhPJrv",
        "colab_type": "code",
        "colab": {
          "base_uri": "https://localhost:8080/",
          "height": 118
        },
        "outputId": "554b1af1-b420-4ff3-ea76-4d75f1d5f2e6"
      },
      "source": [
        "#Printing first three rows using head method\n",
        "print(wine.head(3))"
      ],
      "execution_count": 83,
      "outputs": [
        {
          "output_type": "stream",
          "text": [
            "   Unnamed: 0 country  ...             variety                   winery\n",
            "0           0      US  ...  Cabernet Sauvignon                    Heitz\n",
            "1           1   Spain  ...       Tinta de Toro  Bodega Carmen Rodríguez\n",
            "2           2      US  ...     Sauvignon Blanc                 Macauley\n",
            "\n",
            "[3 rows x 11 columns]\n"
          ],
          "name": "stdout"
        }
      ]
    },
    {
      "cell_type": "code",
      "metadata": {
        "id": "V9i3QDlzPqZt",
        "colab_type": "code",
        "colab": {
          "base_uri": "https://localhost:8080/",
          "height": 118
        },
        "outputId": "f217cdef-75ef-414c-e78e-9f62ca47ebac"
      },
      "source": [
        "#Printing last three rows using tail method\n",
        "print(wine.tail(3))"
      ],
      "execution_count": 84,
      "outputs": [
        {
          "output_type": "stream",
          "text": [
            "       Unnamed: 0  country  ...       variety            winery\n",
            "10096       10096  Austria  ...          Rosé      Winzer Krems\n",
            "10097       10097    Spain  ...   Tempranillo           Legaris\n",
            "10098       10098   France  ...  Malbec Blend  Château la Reyne\n",
            "\n",
            "[3 rows x 11 columns]\n"
          ],
          "name": "stdout"
        }
      ]
    },
    {
      "cell_type": "code",
      "metadata": {
        "id": "ZU8WomIQRgnG",
        "colab_type": "code",
        "colab": {
          "base_uri": "https://localhost:8080/",
          "height": 67
        },
        "outputId": "43bf9508-ee97-4289-b8f0-35340252ecb5"
      },
      "source": [
        "#Printing the coloumns of the dataframe\n",
        "print(wine.columns)"
      ],
      "execution_count": 85,
      "outputs": [
        {
          "output_type": "stream",
          "text": [
            "Index(['Unnamed: 0', 'country', 'description', 'designation', 'points',\n",
            "       'price', 'province', 'region_1', 'region_2', 'variety', 'winery'],\n",
            "      dtype='object')\n"
          ],
          "name": "stdout"
        }
      ]
    },
    {
      "cell_type": "code",
      "metadata": {
        "id": "z0GQq1_BnHiC",
        "colab_type": "code",
        "colab": {
          "base_uri": "https://localhost:8080/",
          "height": 195
        },
        "outputId": "0d49f6a3-2aa7-4f59-ab66-adb387297e5c"
      },
      "source": [
        "#Printing a subset from the data\n",
        "b=wine.loc[:,['country','price','variety']]\n",
        "b.head(5)"
      ],
      "execution_count": 86,
      "outputs": [
        {
          "output_type": "execute_result",
          "data": {
            "text/html": [
              "<div>\n",
              "<style scoped>\n",
              "    .dataframe tbody tr th:only-of-type {\n",
              "        vertical-align: middle;\n",
              "    }\n",
              "\n",
              "    .dataframe tbody tr th {\n",
              "        vertical-align: top;\n",
              "    }\n",
              "\n",
              "    .dataframe thead th {\n",
              "        text-align: right;\n",
              "    }\n",
              "</style>\n",
              "<table border=\"1\" class=\"dataframe\">\n",
              "  <thead>\n",
              "    <tr style=\"text-align: right;\">\n",
              "      <th></th>\n",
              "      <th>country</th>\n",
              "      <th>price</th>\n",
              "      <th>variety</th>\n",
              "    </tr>\n",
              "  </thead>\n",
              "  <tbody>\n",
              "    <tr>\n",
              "      <th>0</th>\n",
              "      <td>US</td>\n",
              "      <td>235.0</td>\n",
              "      <td>Cabernet Sauvignon</td>\n",
              "    </tr>\n",
              "    <tr>\n",
              "      <th>1</th>\n",
              "      <td>Spain</td>\n",
              "      <td>110.0</td>\n",
              "      <td>Tinta de Toro</td>\n",
              "    </tr>\n",
              "    <tr>\n",
              "      <th>2</th>\n",
              "      <td>US</td>\n",
              "      <td>90.0</td>\n",
              "      <td>Sauvignon Blanc</td>\n",
              "    </tr>\n",
              "    <tr>\n",
              "      <th>3</th>\n",
              "      <td>US</td>\n",
              "      <td>65.0</td>\n",
              "      <td>Pinot Noir</td>\n",
              "    </tr>\n",
              "    <tr>\n",
              "      <th>4</th>\n",
              "      <td>France</td>\n",
              "      <td>66.0</td>\n",
              "      <td>Provence red blend</td>\n",
              "    </tr>\n",
              "  </tbody>\n",
              "</table>\n",
              "</div>"
            ],
            "text/plain": [
              "  country  price             variety\n",
              "0      US  235.0  Cabernet Sauvignon\n",
              "1   Spain  110.0       Tinta de Toro\n",
              "2      US   90.0     Sauvignon Blanc\n",
              "3      US   65.0          Pinot Noir\n",
              "4  France   66.0  Provence red blend"
            ]
          },
          "metadata": {
            "tags": []
          },
          "execution_count": 86
        }
      ]
    },
    {
      "cell_type": "markdown",
      "metadata": {
        "id": "8HuD2QgJU9Up",
        "colab_type": "text"
      },
      "source": [
        "# Checking the dimensions of the data"
      ]
    },
    {
      "cell_type": "code",
      "metadata": {
        "id": "OJPhnmW4QAa0",
        "colab_type": "code",
        "colab": {
          "base_uri": "https://localhost:8080/",
          "height": 34
        },
        "outputId": "24ca4aec-ff89-41df-d7a7-f1ba1c5dece3"
      },
      "source": [
        "#Printing the shape of the dataframe\n",
        "print(wine.shape)"
      ],
      "execution_count": 87,
      "outputs": [
        {
          "output_type": "stream",
          "text": [
            "(10099, 11)\n"
          ],
          "name": "stdout"
        }
      ]
    },
    {
      "cell_type": "code",
      "metadata": {
        "id": "atSsVAp8Q08i",
        "colab_type": "code",
        "colab": {
          "base_uri": "https://localhost:8080/",
          "height": 34
        },
        "outputId": "8881d4d4-fbc1-42e4-b7ae-87b64e4bc5c8"
      },
      "source": [
        "#Printing the size of the dataframe\n",
        "print(wine.size)"
      ],
      "execution_count": 88,
      "outputs": [
        {
          "output_type": "stream",
          "text": [
            "111089\n"
          ],
          "name": "stdout"
        }
      ]
    },
    {
      "cell_type": "markdown",
      "metadata": {
        "id": "yngsAFRSVH8-",
        "colab_type": "text"
      },
      "source": [
        "# Data types in the data"
      ]
    },
    {
      "cell_type": "code",
      "metadata": {
        "id": "pMqkQN3iRQhp",
        "colab_type": "code",
        "colab": {
          "base_uri": "https://localhost:8080/",
          "height": 218
        },
        "outputId": "c84a3aab-3be6-4866-acc2-b2ddd81b322a"
      },
      "source": [
        "#Printing the data types in the dataframe\n",
        "print(wine.dtypes)"
      ],
      "execution_count": 89,
      "outputs": [
        {
          "output_type": "stream",
          "text": [
            "Unnamed: 0       int64\n",
            "country         object\n",
            "description     object\n",
            "designation     object\n",
            "points           int64\n",
            "price          float64\n",
            "province        object\n",
            "region_1        object\n",
            "region_2        object\n",
            "variety         object\n",
            "winery          object\n",
            "dtype: object\n"
          ],
          "name": "stdout"
        }
      ]
    },
    {
      "cell_type": "code",
      "metadata": {
        "id": "OpAFHDYORwqa",
        "colab_type": "code",
        "colab": {
          "base_uri": "https://localhost:8080/",
          "height": 138
        },
        "outputId": "823a7c05-39ee-4dd4-f040-ac6c20537ac2"
      },
      "source": [
        "#Printing the count of unique datatypes\n",
        "print(wine.get_dtype_counts())"
      ],
      "execution_count": 90,
      "outputs": [
        {
          "output_type": "stream",
          "text": [
            "float64    1\n",
            "int64      2\n",
            "object     8\n",
            "dtype: int64\n"
          ],
          "name": "stdout"
        },
        {
          "output_type": "stream",
          "text": [
            "/usr/local/lib/python3.6/dist-packages/ipykernel_launcher.py:1: FutureWarning: `get_dtype_counts` has been deprecated and will be removed in a future version. For DataFrames use `.dtypes.value_counts()\n",
            "  \"\"\"Entry point for launching an IPython kernel.\n"
          ],
          "name": "stderr"
        }
      ]
    },
    {
      "cell_type": "markdown",
      "metadata": {
        "id": "4vDA7ttUXS0B",
        "colab_type": "text"
      },
      "source": [
        "# **Summary Statistics**"
      ]
    },
    {
      "cell_type": "code",
      "metadata": {
        "id": "NjOFhTWXgr6f",
        "colab_type": "code",
        "colab": {
          "base_uri": "https://localhost:8080/",
          "height": 284
        },
        "outputId": "0a6112af-c3ec-4505-9fe1-4cb306fcdeb4"
      },
      "source": [
        "# To find the statistical features of the data\n",
        "# It can be done by using describe method\n",
        "wine.describe()"
      ],
      "execution_count": 122,
      "outputs": [
        {
          "output_type": "execute_result",
          "data": {
            "text/html": [
              "<div>\n",
              "<style scoped>\n",
              "    .dataframe tbody tr th:only-of-type {\n",
              "        vertical-align: middle;\n",
              "    }\n",
              "\n",
              "    .dataframe tbody tr th {\n",
              "        vertical-align: top;\n",
              "    }\n",
              "\n",
              "    .dataframe thead th {\n",
              "        text-align: right;\n",
              "    }\n",
              "</style>\n",
              "<table border=\"1\" class=\"dataframe\">\n",
              "  <thead>\n",
              "    <tr style=\"text-align: right;\">\n",
              "      <th></th>\n",
              "      <th>Unnamed: 0</th>\n",
              "      <th>points</th>\n",
              "      <th>price</th>\n",
              "    </tr>\n",
              "  </thead>\n",
              "  <tbody>\n",
              "    <tr>\n",
              "      <th>count</th>\n",
              "      <td>10099.000000</td>\n",
              "      <td>10099.000000</td>\n",
              "      <td>9554.000000</td>\n",
              "    </tr>\n",
              "    <tr>\n",
              "      <th>mean</th>\n",
              "      <td>5049.000000</td>\n",
              "      <td>88.614120</td>\n",
              "      <td>35.084153</td>\n",
              "    </tr>\n",
              "    <tr>\n",
              "      <th>std</th>\n",
              "      <td>2915.474518</td>\n",
              "      <td>2.728038</td>\n",
              "      <td>34.678630</td>\n",
              "    </tr>\n",
              "    <tr>\n",
              "      <th>min</th>\n",
              "      <td>0.000000</td>\n",
              "      <td>80.000000</td>\n",
              "      <td>4.000000</td>\n",
              "    </tr>\n",
              "    <tr>\n",
              "      <th>25%</th>\n",
              "      <td>2524.500000</td>\n",
              "      <td>87.000000</td>\n",
              "      <td>18.000000</td>\n",
              "    </tr>\n",
              "    <tr>\n",
              "      <th>50%</th>\n",
              "      <td>5049.000000</td>\n",
              "      <td>88.000000</td>\n",
              "      <td>26.000000</td>\n",
              "    </tr>\n",
              "    <tr>\n",
              "      <th>75%</th>\n",
              "      <td>7573.500000</td>\n",
              "      <td>90.000000</td>\n",
              "      <td>42.000000</td>\n",
              "    </tr>\n",
              "    <tr>\n",
              "      <th>max</th>\n",
              "      <td>10098.000000</td>\n",
              "      <td>100.000000</td>\n",
              "      <td>848.000000</td>\n",
              "    </tr>\n",
              "  </tbody>\n",
              "</table>\n",
              "</div>"
            ],
            "text/plain": [
              "         Unnamed: 0        points        price\n",
              "count  10099.000000  10099.000000  9554.000000\n",
              "mean    5049.000000     88.614120    35.084153\n",
              "std     2915.474518      2.728038    34.678630\n",
              "min        0.000000     80.000000     4.000000\n",
              "25%     2524.500000     87.000000    18.000000\n",
              "50%     5049.000000     88.000000    26.000000\n",
              "75%     7573.500000     90.000000    42.000000\n",
              "max    10098.000000    100.000000   848.000000"
            ]
          },
          "metadata": {
            "tags": []
          },
          "execution_count": 122
        }
      ]
    },
    {
      "cell_type": "markdown",
      "metadata": {
        "id": "z5HPJXihWfNt",
        "colab_type": "text"
      },
      "source": [
        "# **GRAPHS**"
      ]
    },
    {
      "cell_type": "code",
      "metadata": {
        "id": "9Gp_cy1NYdFu",
        "colab_type": "code",
        "colab": {}
      },
      "source": [
        "from matplotlib import pyplot as plt\n",
        "from matplotlib import style"
      ],
      "execution_count": 0,
      "outputs": []
    },
    {
      "cell_type": "markdown",
      "metadata": {
        "id": "TG8KUf2TYnJo",
        "colab_type": "text"
      },
      "source": [
        "# Line Graph \n"
      ]
    },
    {
      "cell_type": "code",
      "metadata": {
        "id": "xC95R4-ODw_Z",
        "colab_type": "code",
        "colab": {
          "base_uri": "https://localhost:8080/",
          "height": 316
        },
        "outputId": "b6b891e0-6e98-4cbb-8279-00b2ad3a4d63"
      },
      "source": [
        "wine.plot(kind='line',x='country',y='price')\n",
        "plt.xlabel('country')\n",
        "plt.ylabel('price')\n",
        "plt.title('wine management')"
      ],
      "execution_count": 104,
      "outputs": [
        {
          "output_type": "execute_result",
          "data": {
            "text/plain": [
              "Text(0.5, 1.0, 'wine management')"
            ]
          },
          "metadata": {
            "tags": []
          },
          "execution_count": 104
        },
        {
          "output_type": "display_data",
          "data": {
            "image/png": "[encoded data removed]",
            "text/plain": [
              "<Figure size 432x288 with 1 Axes>"
            ]
          },
          "metadata": {
            "tags": []
          }
        }
      ]
    },
    {
      "cell_type": "markdown",
      "metadata": {
        "id": "6dMsU5i1b5DW",
        "colab_type": "text"
      },
      "source": [
        "# Scatter Graph"
      ]
    },
    {
      "cell_type": "code",
      "metadata": {
        "id": "Ii2SruRMhAnx",
        "colab_type": "code",
        "colab": {
          "base_uri": "https://localhost:8080/",
          "height": 316
        },
        "outputId": "29ecb8ec-cb8e-4fd3-d965-24b9bcdb0c3c"
      },
      "source": [
        "wine.plot(kind='scatter',x='points',y='price')\n",
        "plt.xlabel('points')\n",
        "plt.ylabel('price')\n",
        "plt.title('wine management')"
      ],
      "execution_count": 105,
      "outputs": [
        {
          "output_type": "execute_result",
          "data": {
            "text/plain": [
              "Text(0.5, 1.0, 'wine management')"
            ]
          },
          "metadata": {
            "tags": []
          },
          "execution_count": 105
        },
        {
          "output_type": "display_data",
          "data": {
            "image/png": "[encoded data removed]",
            "text/plain": [
              "<Figure size 432x288 with 1 Axes>"
            ]
          },
          "metadata": {
            "tags": []
          }
        }
      ]
    },
    {
      "cell_type": "markdown",
      "metadata": {
        "id": "s-ZpGIEfcEbu",
        "colab_type": "text"
      },
      "source": [
        "# Density Graph"
      ]
    },
    {
      "cell_type": "code",
      "metadata": {
        "id": "AUX9n3a4novK",
        "colab_type": "code",
        "colab": {
          "base_uri": "https://localhost:8080/",
          "height": 316
        },
        "outputId": "d6429d9f-fa84-4442-a021-5189f9d5ade2"
      },
      "source": [
        "wine.plot(kind='density',x='price',y='points')\n",
        "plt.xlabel('price')\n",
        "plt.ylabel('points')\n",
        "plt.title('wine management')"
      ],
      "execution_count": 106,
      "outputs": [
        {
          "output_type": "execute_result",
          "data": {
            "text/plain": [
              "Text(0.5, 1.0, 'wine management')"
            ]
          },
          "metadata": {
            "tags": []
          },
          "execution_count": 106
        },
        {
          "output_type": "display_data",
          "data": {
            "image/png": "[encoded data removed]",
            "text/plain": [
              "<Figure size 432x288 with 1 Axes>"
            ]
          },
          "metadata": {
            "tags": []
          }
        }
      ]
    },
    {
      "cell_type": "markdown",
      "metadata": {
        "id": "U7inZtDOcTII",
        "colab_type": "text"
      },
      "source": [
        "# Bar Graph"
      ]
    },
    {
      "cell_type": "code",
      "metadata": {
        "id": "0YQk8p6xjXIS",
        "colab_type": "code",
        "colab": {}
      },
      "source": [
        "a=wine[\"country\"].value_counts()"
      ],
      "execution_count": 0,
      "outputs": []
    },
    {
      "cell_type": "code",
      "metadata": {
        "id": "cqe8D8uFmQWi",
        "colab_type": "code",
        "colab": {
          "base_uri": "https://localhost:8080/",
          "height": 428
        },
        "outputId": "7f57f5a8-2453-4425-b725-6158de22632b"
      },
      "source": [
        "a.plot(kind='bar',x='a',y='country',color='black')\n",
        "plt.xlabel('a')\n",
        "plt.ylabel('country')\n",
        "plt.title('wine management')"
      ],
      "execution_count": 109,
      "outputs": [
        {
          "output_type": "execute_result",
          "data": {
            "text/plain": [
              "Text(0.5, 1.0, 'wine management')"
            ]
          },
          "metadata": {
            "tags": []
          },
          "execution_count": 109
        },
        {
          "output_type": "display_data",
          "data": {
            "image/png": "[encoded data removed]",
            "text/plain": [
              "<Figure size 432x288 with 1 Axes>"
            ]
          },
          "metadata": {
            "tags": []
          }
        }
      ]
    },
    {
      "cell_type": "markdown",
      "metadata": {
        "id": "A0xLFgLjcjTb",
        "colab_type": "text"
      },
      "source": [
        "# Pie Chart"
      ]
    },
    {
      "cell_type": "code",
      "metadata": {
        "id": "bZoiQphOmnv_",
        "colab_type": "code",
        "colab": {
          "base_uri": "https://localhost:8080/",
          "height": 299
        },
        "outputId": "537d4573-0e11-41b7-ce2c-174e4a3a2bc0"
      },
      "source": [
        "#Plotting a pie chart for the first nine countries in the subset\n",
        "plt.xlabel('a')\n",
        "plt.ylabel('country')\n",
        "plt.title('wine management')\n",
        "x=a.head(9)\n",
        "x.plot(kind='pie',x='a',y='country')\n"
      ],
      "execution_count": 98,
      "outputs": [
        {
          "output_type": "execute_result",
          "data": {
            "text/plain": [
              "<matplotlib.axes._subplots.AxesSubplot at 0x7f4526207cc0>"
            ]
          },
          "metadata": {
            "tags": []
          },
          "execution_count": 98
        },
        {
          "output_type": "display_data",
          "data": {
            "image/png": "[encoded data removed]",
            "text/plain": [
              "<Figure size 432x288 with 1 Axes>"
            ]
          },
          "metadata": {
            "tags": []
          }
        }
      ]
    },
    {
      "cell_type": "markdown",
      "metadata": {
        "id": "2lAIjclSc2WK",
        "colab_type": "text"
      },
      "source": [
        "# Box Graph"
      ]
    },
    {
      "cell_type": "code",
      "metadata": {
        "id": "ngkIDDGbqzY7",
        "colab_type": "code",
        "colab": {
          "base_uri": "https://localhost:8080/",
          "height": 316
        },
        "outputId": "8120e57c-dcfe-45a3-872b-434cdc03d4ba"
      },
      "source": [
        "wine.plot(kind='box',y='price',x='points')\n",
        "plt.xlabel('points')\n",
        "plt.ylabel('price')\n",
        "plt.title('wine management')"
      ],
      "execution_count": 110,
      "outputs": [
        {
          "output_type": "execute_result",
          "data": {
            "text/plain": [
              "Text(0.5, 1.0, 'wine management')"
            ]
          },
          "metadata": {
            "tags": []
          },
          "execution_count": 110
        },
        {
          "output_type": "display_data",
          "data": {
            "image/png": "[encoded data removed]",
            "text/plain": [
              "<Figure size 432x288 with 1 Axes>"
            ]
          },
          "metadata": {
            "tags": []
          }
        }
      ]
    },
    {
      "cell_type": "markdown",
      "metadata": {
        "id": "3dZo444ldC10",
        "colab_type": "text"
      },
      "source": [
        "# Histogram Representation"
      ]
    },
    {
      "cell_type": "code",
      "metadata": {
        "id": "9rp4McwKxvIO",
        "colab_type": "code",
        "colab": {
          "base_uri": "https://localhost:8080/",
          "height": 316
        },
        "outputId": "71abc1dc-0bc9-4cce-9d98-f37e995460e5"
      },
      "source": [
        "wine.plot(kind='hist',x='points',y='price')\n",
        "plt.xlabel('points')\n",
        "plt.title('wine management')"
      ],
      "execution_count": 118,
      "outputs": [
        {
          "output_type": "execute_result",
          "data": {
            "text/plain": [
              "Text(0.5, 1.0, 'wine management')"
            ]
          },
          "metadata": {
            "tags": []
          },
          "execution_count": 118
        },
        {
          "output_type": "display_data",
          "data": {
            "image/png": "[encoded data removed]",
            "text/plain": [
              "<Figure size 432x288 with 1 Axes>"
            ]
          },
          "metadata": {
            "tags": []
          }
        }
      ]
    },
    {
      "cell_type": "code",
      "metadata": {
        "colab_type": "code",
        "outputId": "b4489d6d-1d94-4b75-d22d-6b795d2b5f66",
        "id": "NozIGPTkdfZF",
        "colab": {
          "base_uri": "https://localhost:8080/",
          "height": 299
        }
      },
      "source": [
        "wine.plot(kind='hist')\n",
        "plt.xlabel('points')\n",
        "plt.ylabel('price')\n",
        "plt.title('wine management')\n",
        "plt.style.use('ggplot')"
      ],
      "execution_count": 116,
      "outputs": [
        {
          "output_type": "display_data",
          "data": {
            "image/png": "[encoded data removed]",
            "text/plain": [
              "<Figure size 432x288 with 1 Axes>"
            ]
          },
          "metadata": {
            "tags": []
          }
        }
      ]
    },
    {
      "cell_type": "code",
      "metadata": {
        "id": "w8pNVt3E5IK4",
        "colab_type": "code",
        "colab": {
          "base_uri": "https://localhost:8080/",
          "height": 316
        },
        "outputId": "48100329-b724-49c0-9658-1121c3cabc2b"
      },
      "source": [
        "plt.xlabel('a')\n",
        "plt.ylabel('country')\n",
        "plt.title('wine management')\n",
        "plt.style.use('ggplot')\n",
        "a.plot(kind='hist',x='a',y='country')"
      ],
      "execution_count": 115,
      "outputs": [
        {
          "output_type": "execute_result",
          "data": {
            "text/plain": [
              "<matplotlib.axes._subplots.AxesSubplot at 0x7f45259a0470>"
            ]
          },
          "metadata": {
            "tags": []
          },
          "execution_count": 115
        },
        {
          "output_type": "display_data",
          "data": {
            "image/png": "[encoded data removed]",
            "text/plain": [
              "<Figure size 432x288 with 1 Axes>"
            ]
          },
          "metadata": {
            "tags": []
          }
        }
      ]
    }
  ]
}