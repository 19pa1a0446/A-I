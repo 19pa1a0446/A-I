{
  "nbformat": 4,
  "nbformat_minor": 0,
  "metadata": {
    "colab": {
      "name": "John",
      "provenance": [],
      "authorship_tag": "ABX9TyO7VZq2EGDX/Abs6yvZ9nPZ",
      "include_colab_link": true
    },
    "kernelspec": {
      "name": "python3",
      "display_name": "Python 3"
    }
  },
  "cells": [
    {
      "cell_type": "markdown",
      "metadata": {
        "id": "view-in-github",
        "colab_type": "text"
      },
      "source": [
        "<a href=\"https://colab.research.google.com/github/19pa1a0446/A-I/blob/master/John.ipynb\" target=\"_parent\"><img src=\"https://colab.research.google.com/assets/colab-badge.svg\" alt=\"Open In Colab\"/></a>"
      ]
    },
    {
      "cell_type": "code",
      "metadata": {
        "id": "lL80CEF5jyKI",
        "colab_type": "code",
        "colab": {
          "base_uri": "https://localhost:8080/",
          "height": 34
        },
        "outputId": "15ca37b8-1493-4278-a84a-f7407498dd53"
      },
      "source": [
        "a=5\n",
        "b=9\n",
        "if a>b:\n",
        "  print (\"greatest num= a\",a)\n",
        "else:\n",
        "  print(\"greatest num = b\",b)"
      ],
      "execution_count": 4,
      "outputs": [
        {
          "output_type": "stream",
          "text": [
            "greatest num = b 9\n"
          ],
          "name": "stdout"
        }
      ]
    },
    {
      "cell_type": "code",
      "metadata": {
        "id": "wJwcA-IykFnB",
        "colab_type": "code",
        "colab": {
          "base_uri": "https://localhost:8080/",
          "height": 85
        },
        "outputId": "4b51754f-4452-41bd-f7f2-419bc6b5f47a"
      },
      "source": [
        "n=10\n",
        "for i in range(1,n):\n",
        "   if (i%2==0):\n",
        "     print(\"even num =\",i) "
      ],
      "execution_count": 31,
      "outputs": [
        {
          "output_type": "stream",
          "text": [
            "even num = 2\n",
            "even num = 4\n",
            "even num = 6\n",
            "even num = 8\n"
          ],
          "name": "stdout"
        }
      ]
    },
    {
      "cell_type": "code",
      "metadata": {
        "id": "Cf4EUJcuoEgi",
        "colab_type": "code",
        "colab": {
          "base_uri": "https://localhost:8080/",
          "height": 102
        },
        "outputId": "d36c872f-18d1-4655-ed22-f33236cd4f15"
      },
      "source": [
        "n=10\n",
        "for i in range(1,n):\n",
        "  if (i%2!=0):\n",
        "    print(\"odd num=\",i)"
      ],
      "execution_count": 34,
      "outputs": [
        {
          "output_type": "stream",
          "text": [
            "odd num= 1\n",
            "odd num= 3\n",
            "odd num= 5\n",
            "odd num= 7\n",
            "odd num= 9\n"
          ],
          "name": "stdout"
        }
      ]
    },
    {
      "cell_type": "code",
      "metadata": {
        "id": "RIMDwiqdzw8v",
        "colab_type": "code",
        "colab": {}
      },
      "source": [
        ""
      ],
      "execution_count": 0,
      "outputs": []
    }
  ]
}